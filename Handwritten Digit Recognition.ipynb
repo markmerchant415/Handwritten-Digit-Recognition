{
 "cells": [
  {
   "cell_type": "code",
   "execution_count": 3,
   "id": "9cb46f19",
   "metadata": {},
   "outputs": [],
   "source": [
    "import keras\n",
    "from keras.datasets import mnist\n",
    "from keras.models import Sequential\n",
    "from keras.layers import Dense, Dropout, Flatten\n",
    "from keras.layers import Conv2D, MaxPooling2D\n",
    "from keras import backend as K"
   ]
  },
  {
   "cell_type": "code",
   "execution_count": 4,
   "id": "459e87f3",
   "metadata": {},
   "outputs": [],
   "source": [
    "(x_train, y_train), (x_test, y_test) = mnist.load_data()"
   ]
  },
  {
   "cell_type": "code",
   "execution_count": 5,
   "id": "afb13a45",
   "metadata": {},
   "outputs": [],
   "source": [
    "num_of_trainImgs = x_train.shape[0] #60000 here\n",
    "num_of_testImgs = x_test.shape[0] #10000 here\n",
    "img_width = 28\n",
    "img_height = 28\n",
    " \n",
    "x_train = x_train.reshape(x_train.shape[0], img_height, img_width, 1)\n",
    "x_test = x_test.reshape(x_test.shape[0], img_height, img_width, 1)\n",
    "input_shape = (img_height, img_width, 1)\n",
    " \n",
    "x_train = x_train.astype('float32')\n",
    "x_test = x_test.astype('float32')\n",
    "x_train /= 255\n",
    "x_test /= 255"
   ]
  },
  {
   "cell_type": "code",
   "execution_count": 6,
   "id": "850981d3",
   "metadata": {},
   "outputs": [],
   "source": [
    "num_classes = 10\n",
    "y_train = keras.utils.to_categorical(y_train, num_classes)\n",
    "y_test = keras.utils.to_categorical(y_test, num_classes)"
   ]
  },
  {
   "cell_type": "code",
   "execution_count": 7,
   "id": "86414b4f",
   "metadata": {},
   "outputs": [],
   "source": [
    "model = Sequential()\n",
    "model.add(Conv2D(32, kernel_size=(3, 3),\n",
    "                 activation='relu',\n",
    "                 input_shape=input_shape))\n",
    "model.add(Conv2D(64, (3, 3), activation='relu'))\n",
    "model.add(MaxPooling2D(pool_size=(2, 2)))\n",
    "model.add(Dropout(0.25))\n",
    "model.add(Flatten())\n",
    "model.add(Dense(128, activation='relu'))\n",
    "model.add(Dropout(0.5))\n",
    "model.add(Dense(num_classes, activation='softmax'))"
   ]
  },
  {
   "cell_type": "code",
   "execution_count": 8,
   "id": "2af20639",
   "metadata": {},
   "outputs": [],
   "source": [
    "model.compile(loss=keras.losses.categorical_crossentropy,\n",
    "              optimizer=keras.optimizers.Adadelta(),\n",
    "              metrics=['accuracy'])"
   ]
  },
  {
   "cell_type": "code",
   "execution_count": null,
   "id": "8fc331ba",
   "metadata": {},
   "outputs": [],
   "source": [
    "model.fit(x_train, y_train,\n",
    "          batch_size=128,\n",
    "          epochs=12,\n",
    "          verbose=1,\n",
    "          validation_data=(x_test, y_test))"
   ]
  },
  {
   "cell_type": "code",
   "execution_count": 10,
   "id": "d651f3b6",
   "metadata": {},
   "outputs": [
    {
     "name": "stdout",
     "output_type": "stream",
     "text": [
      "Test loss: 0.7441067099571228\n",
      "Test accuracy: 0.8403000235557556\n"
     ]
    }
   ],
   "source": [
    "score = model.evaluate(x_test, y_test, verbose=0)\n",
    "print('Test loss:', score[0])\n",
    "print('Test accuracy:', score[1])"
   ]
  },
  {
   "cell_type": "code",
   "execution_count": 14,
   "id": "c1bd0160",
   "metadata": {},
   "outputs": [],
   "source": [
    "model.save('trained_model.h5')"
   ]
  },
  {
   "cell_type": "code",
   "execution_count": 15,
   "id": "404d2758",
   "metadata": {},
   "outputs": [],
   "source": [
    "import numpy as np\n",
    "import cv2\n",
    "from skimage import img_as_ubyte    \n",
    "from skimage.color import rgb2gray\n",
    "from keras.models import load_model"
   ]
  },
  {
   "cell_type": "code",
   "execution_count": null,
   "id": "8e01d214",
   "metadata": {},
   "outputs": [],
   "source": [
    "width = 640\n",
    "height = 480\n",
    "cameraNo = 0\n",
    " \n",
    "cap = cv2.VideoCapture(cameraNo)\n",
    "cap.set(3,width)\n",
    "cap.set(4,height)"
   ]
  },
  {
   "cell_type": "code",
   "execution_count": 17,
   "id": "0f248c6c",
   "metadata": {},
   "outputs": [],
   "source": [
    "model = load_model('trained_model.h5')"
   ]
  },
  {
   "cell_type": "code",
   "execution_count": null,
   "id": "e554a8c8",
   "metadata": {},
   "outputs": [],
   "source": [
    "while True:\n",
    "  success, im_orig = cap.read()"
   ]
  },
  {
   "cell_type": "code",
   "execution_count": null,
   "id": "4364271d",
   "metadata": {},
   "outputs": [],
   "source": [
    "img_gray = rgb2gray(img_original)"
   ]
  },
  {
   "cell_type": "code",
   "execution_count": null,
   "id": "308f2ccf",
   "metadata": {},
   "outputs": [],
   "source": [
    "img_gray_u8 = img_as_ubyte(img_gray)"
   ]
  },
  {
   "cell_type": "code",
   "execution_count": null,
   "id": "f2c20bdc",
   "metadata": {},
   "outputs": [],
   "source": [
    "(thresh, im_binary) = cv2.threshold(img_gray_u8, 128, 255, cv2.THRESH_BINARY | cv2.THRESH_OTSU)"
   ]
  },
  {
   "cell_type": "code",
   "execution_count": null,
   "id": "b589680f",
   "metadata": {},
   "outputs": [],
   "source": [
    "img_resized = cv2.resize(im_binary,(28,28))"
   ]
  },
  {
   "cell_type": "code",
   "execution_count": null,
   "id": "4077ee65",
   "metadata": {},
   "outputs": [],
   "source": [
    "im_gray_invert = 255 - img_resized\n",
    "  cv2.imshow(\"invert image\", im_gray_invert)"
   ]
  },
  {
   "cell_type": "code",
   "execution_count": null,
   "id": "a9a10936",
   "metadata": {},
   "outputs": [],
   "source": [
    "im_final = im_gray_invert.reshape(1,28,28,1)"
   ]
  },
  {
   "cell_type": "code",
   "execution_count": null,
   "id": "551d86b2",
   "metadata": {},
   "outputs": [],
   "source": [
    "ans = model.predict(im_final)"
   ]
  },
  {
   "cell_type": "code",
   "execution_count": null,
   "id": "a65891fc",
   "metadata": {},
   "outputs": [],
   "source": [
    "ans = np.argmax(ans,axis=1)[0]\n",
    "  print(ans)"
   ]
  },
  {
   "cell_type": "code",
   "execution_count": null,
   "id": "89c37168",
   "metadata": {},
   "outputs": [],
   "source": [
    "cv2.putText(img_original,'Predicted Digit : '+str(ans),\n",
    "                    (50,50),cv2.FONT_HERSHEY_COMPLEX,\n",
    "                    1,(0,0,255),1)\n",
    "  cv2.imshow(\"Original Image\",img_original)"
   ]
  },
  {
   "cell_type": "code",
   "execution_count": null,
   "id": "86fd0dd1",
   "metadata": {},
   "outputs": [],
   "source": [
    "if cv2.waitKey(1) and 0xFF == ord('q'):\n",
    "    break"
   ]
  },
  {
   "cell_type": "code",
   "execution_count": null,
   "id": "38a2f570",
   "metadata": {},
   "outputs": [],
   "source": [
    "cap.release()\n",
    "cv2.destroyAllWindows()"
   ]
  },
  {
   "cell_type": "code",
   "execution_count": null,
   "id": "aafd1948",
   "metadata": {},
   "outputs": [],
   "source": [
    "(x_train, y_train),(x_test, y_test) = mnist.load_data()\n",
    " \n",
    "import matplotlib.pyplot as plt\n",
    "fig, axes = plt.subplots(10, 10, figsize=(8, 8), subplot_kw={'xticks':[], 'yticks':[]}, gridspec_kw=dict(hspace=0.1, wspace=0.1))\n",
    "for i, ax in enumerate(axes.flat):\n",
    "    ax.imshow(x_train[i], cmap='binary', interpolation='nearest')\n",
    "    ax.text(0.05, 0.05, str(y_train[i]),transform=ax.transAxes, color='green')\n",
    "plt.show()"
   ]
  }
 ],
 "metadata": {
  "kernelspec": {
   "display_name": "Python 3",
   "language": "python",
   "name": "python3"
  },
  "language_info": {
   "codemirror_mode": {
    "name": "ipython",
    "version": 3
   },
   "file_extension": ".py",
   "mimetype": "text/x-python",
   "name": "python",
   "nbconvert_exporter": "python",
   "pygments_lexer": "ipython3",
   "version": "3.8.10"
  }
 },
 "nbformat": 4,
 "nbformat_minor": 5
}
